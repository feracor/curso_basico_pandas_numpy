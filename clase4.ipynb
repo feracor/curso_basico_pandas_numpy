{
  "nbformat": 4,
  "nbformat_minor": 0,
  "metadata": {
    "colab": {
      "provenance": [],
      "authorship_tag": "ABX9TyPmsBG5g/L6du7DgNL4Ocj7",
      "include_colab_link": true
    },
    "kernelspec": {
      "name": "python3",
      "display_name": "Python 3"
    },
    "language_info": {
      "name": "python"
    }
  },
  "cells": [
    {
      "cell_type": "markdown",
      "metadata": {
        "id": "view-in-github",
        "colab_type": "text"
      },
      "source": [
        "<a href=\"https://colab.research.google.com/github/feracor/curso_basico_pandas_numpy/blob/main/clase4.ipynb\" target=\"_parent\"><img src=\"https://colab.research.google.com/assets/colab-badge.svg\" alt=\"Open In Colab\"/></a>"
      ]
    },
    {
      "cell_type": "code",
      "execution_count": 4,
      "metadata": {
        "id": "mAOd75sgt9A0"
      },
      "outputs": [],
      "source": [
        "import numpy as np"
      ]
    },
    {
      "cell_type": "code",
      "source": [
        "arr = np.array([1,2,3,4])\n",
        "arr.dtype #Verifica tipo de dato dentro del array"
      ],
      "metadata": {
        "colab": {
          "base_uri": "https://localhost:8080/"
        },
        "id": "OwVteRPxuozu",
        "outputId": "955f373e-a61f-4970-b6d9-c893b2a5517b"
      },
      "execution_count": 18,
      "outputs": [
        {
          "output_type": "execute_result",
          "data": {
            "text/plain": [
              "dtype('int64')"
            ]
          },
          "metadata": {},
          "execution_count": 18
        }
      ]
    },
    {
      "cell_type": "code",
      "source": [
        "arr = np.array([1,2,3,4], dtype = 'float') #Define el objeto como tipo float, lo que hace que sus elementos sean de tipo flotante\n",
        "arr.dtype"
      ],
      "metadata": {
        "colab": {
          "base_uri": "https://localhost:8080/"
        },
        "id": "PYg8LbDsu7we",
        "outputId": "185d1490-3773-4988-c7f5-31088809a3db"
      },
      "execution_count": 16,
      "outputs": [
        {
          "output_type": "execute_result",
          "data": {
            "text/plain": [
              "dtype('float64')"
            ]
          },
          "metadata": {},
          "execution_count": 16
        }
      ]
    },
    {
      "cell_type": "code",
      "source": [
        "arr"
      ],
      "metadata": {
        "colab": {
          "base_uri": "https://localhost:8080/"
        },
        "id": "HCcIhRpwv3UJ",
        "outputId": "11280ebb-7dfd-4101-87b2-d5d1505935f7"
      },
      "execution_count": 15,
      "outputs": [
        {
          "output_type": "execute_result",
          "data": {
            "text/plain": [
              "array([1, 2, 3, 4])"
            ]
          },
          "metadata": {},
          "execution_count": 15
        }
      ]
    },
    {
      "cell_type": "code",
      "source": [
        "arr = np.array([1,2,3,4])\n",
        "arr"
      ],
      "metadata": {
        "colab": {
          "base_uri": "https://localhost:8080/"
        },
        "id": "8zyqKhH_vZJ4",
        "outputId": "d1918bfc-549b-4662-9045-08ea78f2c415"
      },
      "execution_count": 19,
      "outputs": [
        {
          "output_type": "execute_result",
          "data": {
            "text/plain": [
              "array([1, 2, 3, 4])"
            ]
          },
          "metadata": {},
          "execution_count": 19
        }
      ]
    },
    {
      "cell_type": "code",
      "source": [
        "arr = arr.astype(np.float64) # Se hace un casteo desde la libreria numpy para definir el tipo de dato del arreglo"
      ],
      "metadata": {
        "id": "pVD-zoERvslU"
      },
      "execution_count": 23,
      "outputs": []
    },
    {
      "cell_type": "code",
      "source": [
        "arr = np.array([0,1,2,3]) #crea array\n",
        "arr = arr.astype(np.bool_)  # Convierte todo los valores numericos en su equivalente booleano, solo cero es False\n",
        "arr"
      ],
      "metadata": {
        "colab": {
          "base_uri": "https://localhost:8080/"
        },
        "id": "EPTyIbh4wLwR",
        "outputId": "f5b3875d-a375-40d5-ba9d-d841f96d2adb"
      },
      "execution_count": 27,
      "outputs": [
        {
          "output_type": "execute_result",
          "data": {
            "text/plain": [
              "array([False,  True,  True,  True])"
            ]
          },
          "metadata": {},
          "execution_count": 27
        }
      ]
    },
    {
      "cell_type": "code",
      "source": [
        "arr = np.array([0,1,2,3]) # Crea array\n",
        "arr = arr.astype(np.string_)  # Convierte todo los valores numericos en su equivalente string\n",
        "arr"
      ],
      "metadata": {
        "colab": {
          "base_uri": "https://localhost:8080/"
        },
        "id": "MOf1sl4Rwsow",
        "outputId": "dc25ec08-3f85-48fb-ca1d-c6cc1f01dcf8"
      },
      "execution_count": 30,
      "outputs": [
        {
          "output_type": "execute_result",
          "data": {
            "text/plain": [
              "array([b'0', b'1', b'2', b'3'], dtype='|S21')"
            ]
          },
          "metadata": {},
          "execution_count": 30
        }
      ]
    },
    {
      "cell_type": "code",
      "source": [
        "arr = np.array(['0','1','2','3']) # Crea array\n",
        "arr = arr.astype(np.int8)  # Convierte todo los valores string en su equivalente entero SOLO APLICA PARA NUMEROS, NO CADENAS DE TEXTO\n",
        "arr"
      ],
      "metadata": {
        "colab": {
          "base_uri": "https://localhost:8080/"
        },
        "id": "UZoCQQ7jxLG1",
        "outputId": "8a5cc5ef-6aa1-4def-ddcd-404d1c01ddf9"
      },
      "execution_count": 32,
      "outputs": [
        {
          "output_type": "execute_result",
          "data": {
            "text/plain": [
              "array([0, 1, 2, 3], dtype=int8)"
            ]
          },
          "metadata": {},
          "execution_count": 32
        }
      ]
    },
    {
      "cell_type": "code",
      "source": [],
      "metadata": {
        "id": "riK1DA1axkyc"
      },
      "execution_count": null,
      "outputs": []
    }
  ]
}